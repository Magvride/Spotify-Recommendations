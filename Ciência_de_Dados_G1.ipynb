{
  "nbformat": 4,
  "nbformat_minor": 0,
  "metadata": {
    "colab": {
      "provenance": [],
      "include_colab_link": true
    },
    "kernelspec": {
      "name": "python3",
      "display_name": "Python 3"
    },
    "language_info": {
      "name": "python"
    }
  },
  "cells": [
    {
      "cell_type": "markdown",
      "metadata": {
        "id": "view-in-github",
        "colab_type": "text"
      },
      "source": [
        "<a href=\"https://colab.research.google.com/github/Magvride/Spotify-Recommendations/blob/main/Ci%C3%AAncia_de_Dados_G1.ipynb\" target=\"_parent\"><img src=\"https://colab.research.google.com/assets/colab-badge.svg\" alt=\"Open In Colab\"/></a>"
      ]
    },
    {
      "cell_type": "markdown",
      "source": [
        "# Instalação de pacotes necessários\n",
        " - **Numpy** - **computação numérica** em Python\n",
        " - **Pandas** - Manipulação e **análise de dados**\n",
        " - **SciPy**- Escossistema para matemática, ciência e engenharia\n",
        " - **Matplotlib** - **Visualizações** em Python\n",
        " - **Seaborn** - Visualização estatística\n",
        "\n",
        "\n",
        "\n"
      ],
      "metadata": {
        "id": "HBjIjtfCkdoR"
      }
    },
    {
      "cell_type": "code",
      "source": [
        "import numpy as np\n",
        "import pandas as pd\n",
        "import scipy as stats\n",
        "import matplotlib.pyplot as plt\n",
        "import seaborn as sns"
      ],
      "metadata": {
        "id": "fEdkzVWhZXk-"
      },
      "execution_count": 1,
      "outputs": []
    },
    {
      "cell_type": "markdown",
      "source": [
        "# Carregamento do Dataset\n"
      ],
      "metadata": {
        "id": "0oTWIIBMZuBk"
      }
    },
    {
      "cell_type": "code",
      "execution_count": null,
      "metadata": {
        "id": "fDoF13n8aLQ2",
        "collapsed": true
      },
      "outputs": [],
      "source": [
        "#Carregar o dataset\n",
        "url = 'https://raw.githubusercontent.com/rfordatascience/tidytuesday/master/data/2020/2020-01-21/spotify_songs.csv'\n",
        "df = pd.read_csv(url)"
      ]
    },
    {
      "cell_type": "code",
      "source": [
        "#Imprimir primeiras linhas do dataset\n",
        "print(df.head())"
      ],
      "metadata": {
        "id": "z5S7Qaisbl-2"
      },
      "execution_count": null,
      "outputs": []
    },
    {
      "cell_type": "code",
      "source": [
        "#Informações geral do dataset\n",
        "print(df.info())"
      ],
      "metadata": {
        "id": "jk5WXrLGaR9s",
        "outputId": "86459cf8-dccf-41af-9ab5-0a0ed9996803",
        "colab": {
          "base_uri": "https://localhost:8080/"
        }
      },
      "execution_count": 6,
      "outputs": [
        {
          "output_type": "stream",
          "name": "stdout",
          "text": [
            "<class 'pandas.core.frame.DataFrame'>\n",
            "RangeIndex: 32833 entries, 0 to 32832\n",
            "Data columns (total 23 columns):\n",
            " #   Column                    Non-Null Count  Dtype  \n",
            "---  ------                    --------------  -----  \n",
            " 0   track_id                  32833 non-null  object \n",
            " 1   track_name                32828 non-null  object \n",
            " 2   track_artist              32828 non-null  object \n",
            " 3   track_popularity          32833 non-null  int64  \n",
            " 4   track_album_id            32833 non-null  object \n",
            " 5   track_album_name          32828 non-null  object \n",
            " 6   track_album_release_date  32833 non-null  object \n",
            " 7   playlist_name             32833 non-null  object \n",
            " 8   playlist_id               32833 non-null  object \n",
            " 9   playlist_genre            32833 non-null  object \n",
            " 10  playlist_subgenre         32833 non-null  object \n",
            " 11  danceability              32833 non-null  float64\n",
            " 12  energy                    32833 non-null  float64\n",
            " 13  key                       32833 non-null  int64  \n",
            " 14  loudness                  32833 non-null  float64\n",
            " 15  mode                      32833 non-null  int64  \n",
            " 16  speechiness               32833 non-null  float64\n",
            " 17  acousticness              32833 non-null  float64\n",
            " 18  instrumentalness          32833 non-null  float64\n",
            " 19  liveness                  32833 non-null  float64\n",
            " 20  valence                   32833 non-null  float64\n",
            " 21  tempo                     32833 non-null  float64\n",
            " 22  duration_ms               32833 non-null  int64  \n",
            "dtypes: float64(9), int64(4), object(10)\n",
            "memory usage: 5.8+ MB\n",
            "None\n"
          ]
        }
      ]
    },
    {
      "cell_type": "markdown",
      "source": [
        "##Resumo estatístico do dataset"
      ],
      "metadata": {
        "id": "YffEjb5GanKA"
      }
    },
    {
      "cell_type": "code",
      "source": [
        "print(df.describe())"
      ],
      "metadata": {
        "collapsed": true,
        "id": "GCCv_7PCamx0",
        "outputId": "ccf32678-955e-4d8a-eaa7-26b543a9ff9b",
        "colab": {
          "base_uri": "https://localhost:8080/"
        }
      },
      "execution_count": 7,
      "outputs": [
        {
          "output_type": "stream",
          "name": "stdout",
          "text": [
            "       track_popularity  danceability        energy           key  \\\n",
            "count      32833.000000  32833.000000  32833.000000  32833.000000   \n",
            "mean          42.477081      0.654850      0.698619      5.374471   \n",
            "std           24.984074      0.145085      0.180910      3.611657   \n",
            "min            0.000000      0.000000      0.000175      0.000000   \n",
            "25%           24.000000      0.563000      0.581000      2.000000   \n",
            "50%           45.000000      0.672000      0.721000      6.000000   \n",
            "75%           62.000000      0.761000      0.840000      9.000000   \n",
            "max          100.000000      0.983000      1.000000     11.000000   \n",
            "\n",
            "           loudness          mode   speechiness  acousticness  \\\n",
            "count  32833.000000  32833.000000  32833.000000  32833.000000   \n",
            "mean      -6.719499      0.565711      0.107068      0.175334   \n",
            "std        2.988436      0.495671      0.101314      0.219633   \n",
            "min      -46.448000      0.000000      0.000000      0.000000   \n",
            "25%       -8.171000      0.000000      0.041000      0.015100   \n",
            "50%       -6.166000      1.000000      0.062500      0.080400   \n",
            "75%       -4.645000      1.000000      0.132000      0.255000   \n",
            "max        1.275000      1.000000      0.918000      0.994000   \n",
            "\n",
            "       instrumentalness      liveness       valence         tempo  \\\n",
            "count      32833.000000  32833.000000  32833.000000  32833.000000   \n",
            "mean           0.084747      0.190176      0.510561    120.881132   \n",
            "std            0.224230      0.154317      0.233146     26.903624   \n",
            "min            0.000000      0.000000      0.000000      0.000000   \n",
            "25%            0.000000      0.092700      0.331000     99.960000   \n",
            "50%            0.000016      0.127000      0.512000    121.984000   \n",
            "75%            0.004830      0.248000      0.693000    133.918000   \n",
            "max            0.994000      0.996000      0.991000    239.440000   \n",
            "\n",
            "         duration_ms  \n",
            "count   32833.000000  \n",
            "mean   225799.811622  \n",
            "std     59834.006182  \n",
            "min      4000.000000  \n",
            "25%    187819.000000  \n",
            "50%    216000.000000  \n",
            "75%    253585.000000  \n",
            "max    517810.000000  \n"
          ]
        }
      ]
    },
    {
      "cell_type": "markdown",
      "source": [
        "#Medidas de tendencia central\n",
        "\n"
      ],
      "metadata": {
        "id": "Zesp324Aa9aB"
      }
    },
    {
      "cell_type": "markdown",
      "source": [
        "\n",
        "## **Moda** para variables categoricas"
      ],
      "metadata": {
        "id": "V731a6QPtViD"
      }
    },
    {
      "cell_type": "code",
      "source": [
        "#Criação de uma lista com as columnas que quermos saber as medidas de tendencia central\n",
        "#Se seleccionaron las variables que hacian mas sentido conocer la T.C\n",
        "features = ['track_name', 'track_artist', 'playlist_genre', 'track_album_name']"
      ],
      "metadata": {
        "id": "tEXXw8LabvSS"
      },
      "execution_count": 8,
      "outputs": []
    },
    {
      "cell_type": "markdown",
      "source": [
        "###Um jeito de conhecer a moda de diferentes variaveis **.mode()**"
      ],
      "metadata": {
        "id": "B2l6bdOWsj-y"
      }
    },
    {
      "cell_type": "code",
      "source": [
        "for feature in features:\n",
        "  moda_val = df[feature].mode()[0]\n",
        "  print()\n",
        "  print(f\"A moda do atributo {feature} é {moda_val}\")"
      ],
      "metadata": {
        "collapsed": true,
        "id": "eXUW3IdscxwT",
        "outputId": "57319af1-ed6d-42db-c13b-0ff7376e2b2f",
        "colab": {
          "base_uri": "https://localhost:8080/"
        }
      },
      "execution_count": 26,
      "outputs": [
        {
          "output_type": "stream",
          "name": "stdout",
          "text": [
            "\n",
            "A moda do atributo track_name é Poison\n",
            "\n",
            "A moda do atributo track_artist é Martin Garrix\n",
            "\n",
            "A moda do atributo playlist_genre é edm\n",
            "\n",
            "A moda do atributo track_album_name é Greatest Hits\n"
          ]
        }
      ]
    },
    {
      "cell_type": "markdown",
      "source": [
        "###Jeito de conhecer a moda com função **.value_counts()**"
      ],
      "metadata": {
        "id": "hm0nlEoYso-X"
      }
    },
    {
      "cell_type": "code",
      "source": [
        "print(df[\"track_name\"].value_counts().idxmax())\n",
        "print(df['track_name'].value_counts().max())"
      ],
      "metadata": {
        "collapsed": true,
        "id": "mOtoSyMhpKrg",
        "outputId": "f8a1f450-2546-413b-f219-e5a4e5144e4e",
        "colab": {
          "base_uri": "https://localhost:8080/"
        }
      },
      "execution_count": 21,
      "outputs": [
        {
          "output_type": "stream",
          "name": "stdout",
          "text": [
            "Poison\n",
            "22\n"
          ]
        }
      ]
    },
    {
      "cell_type": "markdown",
      "source": [
        "##Mediana e medio para variaveis numericas"
      ],
      "metadata": {
        "id": "GXHe833MtZTv"
      }
    }
  ]
}